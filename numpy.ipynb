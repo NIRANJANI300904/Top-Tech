{
 "cells": [
  {
   "cell_type": "code",
   "execution_count": 4,
   "id": "495963b2-da33-4ac0-b779-abe1b7d57ccd",
   "metadata": {},
   "outputs": [
    {
     "name": "stdout",
     "output_type": "stream",
     "text": [
      "[1 2 3 4 5]\n"
     ]
    }
   ],
   "source": [
    "import numpy as np\n",
    "a=np.array([1,2,3,4,5])\n",
    "print(a)"
   ]
  },
  {
   "cell_type": "code",
   "execution_count": 6,
   "id": "b017e924-d225-4545-af2d-3407b41f8bf9",
   "metadata": {},
   "outputs": [
    {
     "name": "stdout",
     "output_type": "stream",
     "text": [
      "[[4 5]\n",
      " [6 7]]\n"
     ]
    }
   ],
   "source": [
    "b=np.array([[4,5],[6,7]])\n",
    "print(b)"
   ]
  },
  {
   "cell_type": "code",
   "execution_count": 7,
   "id": "5eb9e2f6-a4cf-4a0f-a67a-111724b15891",
   "metadata": {},
   "outputs": [
    {
     "name": "stdout",
     "output_type": "stream",
     "text": [
      "[[[4 5]\n",
      "  [6 7]]\n",
      "\n",
      " [[4 5]\n",
      "  [6 7]]]\n"
     ]
    }
   ],
   "source": [
    "c=np.array([[[4,5],[6,7]],[[4,5],[6,7]]])\n",
    "print(c)"
   ]
  },
  {
   "cell_type": "code",
   "execution_count": 9,
   "id": "22dd198e-5625-49df-af26-dbf51644e059",
   "metadata": {},
   "outputs": [
    {
     "name": "stdout",
     "output_type": "stream",
     "text": [
      "int64\n"
     ]
    }
   ],
   "source": [
    "d=c.dtype\n",
    "print(d)"
   ]
  },
  {
   "cell_type": "code",
   "execution_count": 14,
   "id": "ac84b704-8f72-4e46-9aef-bf43da5f3387",
   "metadata": {},
   "outputs": [
    {
     "name": "stdout",
     "output_type": "stream",
     "text": [
      "bool\n"
     ]
    }
   ],
   "source": [
    "boolean_array=np.array([True,False])\n",
    "arr_type=boolean_array.dtype\n",
    "print(arr_type)"
   ]
  },
  {
   "cell_type": "code",
   "execution_count": 13,
   "id": "0c31c847-5f1f-4e0e-a24e-6ceee46dc781",
   "metadata": {},
   "outputs": [
    {
     "name": "stdout",
     "output_type": "stream",
     "text": [
      "float64\n"
     ]
    }
   ],
   "source": [
    "e=np.array([2.35,6.75])\n",
    "arr_type=e.dtype\n",
    "print(arr_type)\n"
   ]
  },
  {
   "cell_type": "code",
   "execution_count": 15,
   "id": "d4bbee68-a601-4d70-991d-481957e8e4f0",
   "metadata": {},
   "outputs": [
    {
     "name": "stdout",
     "output_type": "stream",
     "text": [
      "bool\n"
     ]
    }
   ],
   "source": [
    "boolean_array=np.array([True,False])\n",
    "print(boolean_array.dtype)"
   ]
  },
  {
   "cell_type": "code",
   "execution_count": 16,
   "id": "afdb9ff1-2cb9-43e1-8b1c-464af375e3e0",
   "metadata": {},
   "outputs": [
    {
     "name": "stdout",
     "output_type": "stream",
     "text": [
      "bool\n"
     ]
    }
   ],
   "source": [
    "x=np.array([True,False])\n",
    "print(x.dtype)"
   ]
  }
 ],
 "metadata": {
  "kernelspec": {
   "display_name": "base",
   "language": "python",
   "name": "python3"
  },
  "language_info": {
   "codemirror_mode": {
    "name": "ipython",
    "version": 3
   },
   "file_extension": ".py",
   "mimetype": "text/x-python",
   "name": "python",
   "nbconvert_exporter": "python",
   "pygments_lexer": "ipython3",
   "version": "3.13.5"
  }
 },
 "nbformat": 4,
 "nbformat_minor": 5
}
